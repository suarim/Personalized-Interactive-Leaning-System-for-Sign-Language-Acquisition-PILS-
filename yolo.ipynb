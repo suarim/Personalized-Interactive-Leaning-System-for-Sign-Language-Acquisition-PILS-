{
 "cells": [
  {
   "cell_type": "code",
   "execution_count": 5,
   "metadata": {},
   "outputs": [
    {
     "name": "stdout",
     "output_type": "stream",
     "text": [
      "\n",
      "0: 480x640 1 person, 1 apple, 209.6ms\n",
      "Speed: 7.0ms preprocess, 209.6ms inference, 3.0ms postprocess per image at shape (1, 3, 480, 640)\n",
      "apple\n",
      "\n",
      "0: 480x640 2 persons, 203.5ms\n",
      "Speed: 5.5ms preprocess, 203.5ms inference, 2.0ms postprocess per image at shape (1, 3, 480, 640)\n",
      "\n",
      "0: 480x640 1 apple, 206.9ms\n",
      "Speed: 3.0ms preprocess, 206.9ms inference, 3.1ms postprocess per image at shape (1, 3, 480, 640)\n",
      "apple\n",
      "\n",
      "0: 480x640 1 donut, 213.5ms\n",
      "Speed: 3.0ms preprocess, 213.5ms inference, 2.8ms postprocess per image at shape (1, 3, 480, 640)\n"
     ]
    }
   ],
   "source": [
    "import cv2\n",
    "from ultralytics import YOLO\n",
    "import supervision as sv\n",
    "\n",
    "# Load YOLO model\n",
    "model = YOLO(\"yolov8n.pt\")\n",
    "\n",
    "def capture_image():\n",
    "    # Initialize the webcam\n",
    "    cap = cv2.VideoCapture(0)\n",
    "\n",
    "    if not cap.isOpened():\n",
    "        print(\"Error: Could not open webcam\")\n",
    "        return\n",
    "    custom = [\"apple\", \"banana\", \"dog\",\"umbrella\", \"bottle\", \"orange\"]\n",
    "    while True:\n",
    "        l=[]\n",
    "        # Read a frame from the webcam\n",
    "        ret, frame = cap.read()\n",
    "\n",
    "        if ret:\n",
    "            # Display the captured image\n",
    "            cv2.imshow(\"Captured Image\", frame)\n",
    "\n",
    "            # Check for key press\n",
    "            key = cv2.waitKey(1) & 0xFF\n",
    "\n",
    "            # Press 'c' to perform object detection\n",
    "            if key == ord(\"c\"):\n",
    "                result = model(frame, agnostic_nms=True)[0]\n",
    "                detections = sv.Detections.from_ultralytics(result)\n",
    "                l = [detections.data['class_name'][i] for i in range(len(detections.confidence)) if (detections.data['class_name'][i] in custom)]\n",
    "                if len(l) !=0:\n",
    "                    print(l[0])\n",
    "                    # Read the video file\n",
    "                    # video_path = f\"C:/Users/Aaron/OneDrive/Desktop/yolo8/signs/{l[0]}.mp4\"\n",
    "                    video_path=f\"E:/FirstPart/signs/{l[0]}.mp4\"\n",
    "                    video_cap = cv2.VideoCapture(video_path)\n",
    "\n",
    "                    # Check if the video file opened successfully\n",
    "                    if not video_cap.isOpened():\n",
    "                        print(f\"Error: Could not open video file {video_path}\")\n",
    "                    else:\n",
    "                        # Read and display the video\n",
    "                        while True:\n",
    "                            ret, video_frame = video_cap.read()\n",
    "                            if not ret:\n",
    "                                break\n",
    "                            cv2.imshow(l[0], video_frame)\n",
    "                            key = cv2.waitKey(25) & 0xFF\n",
    "                            if key == 27 or key == ord('c'):\n",
    "                                break\n",
    "                        # Release the video file\n",
    "                        video_cap.release()\n",
    "\n",
    "            # Press 'esc' to exit the loop\n",
    "            elif key == 27:\n",
    "                break\n",
    "\n",
    "    # Release the webcam and close all windows\n",
    "    cap.release()\n",
    "    cv2.destroyAllWindows()\n",
    "\n",
    "if __name__ == \"__main__\":\n",
    "    capture_image()"
   ]
  }
 ],
 "metadata": {
  "kernelspec": {
   "display_name": "base",
   "language": "python",
   "name": "python3"
  },
  "language_info": {
   "codemirror_mode": {
    "name": "ipython",
    "version": 3
   },
   "file_extension": ".py",
   "mimetype": "text/x-python",
   "name": "python",
   "nbconvert_exporter": "python",
   "pygments_lexer": "ipython3",
   "version": "3.11.4"
  }
 },
 "nbformat": 4,
 "nbformat_minor": 2
}
